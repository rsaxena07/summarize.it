{
 "cells": [
  {
   "cell_type": "code",
   "execution_count": 23,
   "metadata": {},
   "outputs": [],
   "source": [
    "import numpy as np\n",
    "import pandas as pd\n",
    "import nltk\n",
    "\n",
    "from nltk.tokenize import sent_tokenize\n",
    "from nltk.tokenize import word_tokenize\n",
    "from nltk.corpus import stopwords\n",
    "\n",
    "class SummarizeItInference:\n",
    "    \n",
    "    def __init__(self):        \n",
    "    \n",
    "        self.dimension = 300\n",
    "        self.glove_input_file = \"glove\\glove.6B.\" + str(self.dimension) + \"d.txt\"\n",
    "    \n",
    "        #generating stop words for english\n",
    "        self.stop_words = set(stopwords.words('english'))\n",
    "\n",
    "        # reading glove embeddings and storing them in a string\n",
    "        embeddings_dict = {}\n",
    "        with open(self.glove_input_file, 'r', encoding=\"utf-8\") as f:\n",
    "            for line in f:\n",
    "                values = line.split()\n",
    "                word = values[0]\n",
    "                vector = np.asarray(values[1:], \"float32\")\n",
    "                embeddings_dict[word] = vector\n",
    "        self.embeddings_dict = embeddings_dict\n",
    "        \n",
    "    # no functional use only used to verify proper creation of the object.\n",
    "    def checkWord(self, word):\n",
    "        embeds = self.embeddings_dict[word]\n",
    "        print(\"Type of Embeddings: \" + str(type(embeds)))\n",
    "        print(\"First Embedding for \" + word + \" : \" + str(embeds[0]))\n",
    "        \n",
    "        \n",
    "    def average_context_embedding(self, filtered_words_list):\n",
    "        total_found_words = 0\n",
    "        document_embedding = np.zeros(self.dimension)\n",
    "        for words in filtered_words_list:\n",
    "            for word in words:\n",
    "                if word in self.embeddings_dict:\n",
    "                    document_embedding += self.embeddings_dict[word]\n",
    "                    total_found_words += 1\n",
    "                else: # can remove this else later\n",
    "                    print(word + \" not found\")\n",
    "        if total_found_words != 0:\n",
    "            # to avoid division by 0\n",
    "            document_embedding /= total_found_words\n",
    "        self.document_embedding = document_embedding\n",
    "        return\n",
    "    \n",
    "    def query(self, input_text, output_length_percent, keywords):\n",
    "        \n",
    "        if type(input_text) != str:\n",
    "            print(\"invalid input_text. send proper string\")\n",
    "            return\n",
    "            \n",
    "        if output_length_percent<10 or output_length_percent>70:\n",
    "            print(\"Invalid output percent (allowed between 10%-70%)\")\n",
    "            return\n",
    "        \n",
    "        self.output_length = len(input_text) * output_length_percent / 100\n",
    "        print(\"--------- Input Length: \" + str(len(input_text)) + \"  Min Output Length: \" + str(self.output_length) + \" ----------\")\n",
    "        \n",
    "        # remove after testing\n",
    "        print (\"Input: \" + input_text)\n",
    "        \n",
    "        print(\"------Tokenization and removing stop words ---------\")\n",
    "        filtered_words_list = []\n",
    "        sentences = sent_tokenize(input_text)\n",
    "        for sentence in sentences:\n",
    "            words = word_tokenize(sentence)\n",
    "\n",
    "            filtered_words = [w.lower() for w in words if not w in self.stop_words]\n",
    "            print(filtered_words) # remove print \n",
    "            filtered_words_list.append(filtered_words)\n",
    "        \n",
    "        print(\"------Average Context Calculation ---------\")\n",
    "        #generate average context\n",
    "        self.average_context_embedding(filtered_words_list)\n",
    "\n",
    "        \n",
    "        print(\"------Sentence Scoring Begins ---------\")\n",
    "        sentence_scores = np.zeros(len(sentences))\n",
    "        \n",
    "        for idx, filtered_words_row in enumerate(filtered_words_list):\n",
    "            found_words = 0\n",
    "            score = 0\n",
    "            for word in filtered_words_row:\n",
    "                if word in self.embeddings_dict:\n",
    "                    score += self.document_embedding.dot(self.embeddings_dict[word])\n",
    "                    found_words += 1\n",
    "                else:\n",
    "                    print(word + \" not found\")\n",
    "            \n",
    "            if found_words != 0:\n",
    "                score /= found_words\n",
    "                sentence_scores[idx] = score\n",
    "                print(\"Score for sentence \" + str(idx) + \" is: \" + str(score))\n",
    "                \n",
    "        print(\"------ Generating Data-Frame ---------\")\n",
    "        sentences_lengths = [len(s) for s in sentences]\n",
    "        sentences_dict = {'index': list(range(len(sentences))),\n",
    "                'score': sentence_scores,\n",
    "                'sentence': sentences,\n",
    "                'filtered_words': filtered_words_list,\n",
    "                'sentence_length': sentences_lengths}\n",
    "        self.sentences_df = pd.DataFrame(data=sentences_dict).sort_values(by=['score'], ascending=False)\n",
    "        print(self.sentences_df)\n",
    "        \n",
    "        print(\"------ Finding no of sentences in output ---------\")\n",
    "        score_wise_lengths = list(self.sentences_df['sentence_length'])\n",
    "        op_sent_count = 0\n",
    "        cumulative_length = 0\n",
    "        while op_sent_count<len(sentences) and cumulative_length < self.output_length:\n",
    "            cumulative_length += score_wise_lengths[op_sent_count]\n",
    "            op_sent_count += 1\n",
    "        print(\"total sentences in output: \" + str(op_sent_count))\n",
    "        \n",
    "        output_text = \" \".join(self.sentences_df[:op_sent_count].sort_values(by=['index'])['sentence'])\n",
    "        \n",
    "        print(\"=====================================================================\")\n",
    "        print(\"                    Final Summarization\")\n",
    "        print(\"=====================================================================\")\n",
    "        print (\"Generated output: \" + output_text)\n",
    "        return output_text"
   ]
  },
  {
   "cell_type": "code",
   "execution_count": 24,
   "metadata": {},
   "outputs": [],
   "source": [
    "obj = SummarizeItInference()"
   ]
  },
  {
   "cell_type": "code",
   "execution_count": 31,
   "metadata": {},
   "outputs": [
    {
     "name": "stdout",
     "output_type": "stream",
     "text": [
      "Type of Embeddings: <class 'numpy.ndarray'>\n",
      "First Embedding for hello : -0.33712\n"
     ]
    }
   ],
   "source": [
    "word = \"hello\"\n",
    "obj.checkWord(word)"
   ]
  },
  {
   "cell_type": "code",
   "execution_count": 25,
   "metadata": {},
   "outputs": [
    {
     "name": "stdout",
     "output_type": "stream",
     "text": [
      "--------- Input Length: 1171  Min Output Length: 351.3 ----------\n",
      "Input: A federal court judge on Tuesday ordered Massachusetts officials to provide sex-reassignment surgery for a transsexual prison inmate, after determining that it was the only adequate treatment for the inmate's mental illness. The state's Department of Correction said Michelle Kosilek, previously known as Robert, who is serving a life sentence without parole for murdering his wife in 1990, has a gender identity disorder. She attempted to castrate herself and tried to commit suicide twice while incarcerated in an all-male prison in Norfolk, according to a court order. We are very happy with the ruling, of course. We are still reviewing the opinion and we anticipate the Department of Corrections will follow Judge Wolf's order and promptly arrange for Michelle Kosilek to receive her treatment,\" Kosilek's attorney Joseph Sulman said Tuesday. The Chart: Treatment guidelines for Gender Identity Disorder in development. Chief Judge Mark L. Wolf ruled that sex reassignment surgery is the \"only adequate treatment\" for Kosilek, and \"that there is no less intrusive means to correct the prolonged violation of Kosilek's Eighth Amendment right to adequate medical care.\n",
      "------Tokenization and removing stop words ---------\n",
      "['a', 'federal', 'court', 'judge', 'tuesday', 'ordered', 'massachusetts', 'officials', 'provide', 'sex-reassignment', 'surgery', 'transsexual', 'prison', 'inmate', ',', 'determining', 'adequate', 'treatment', 'inmate', \"'s\", 'mental', 'illness', '.']\n",
      "['the', 'state', \"'s\", 'department', 'correction', 'said', 'michelle', 'kosilek', ',', 'previously', 'known', 'robert', ',', 'serving', 'life', 'sentence', 'without', 'parole', 'murdering', 'wife', '1990', ',', 'gender', 'identity', 'disorder', '.']\n",
      "['she', 'attempted', 'castrate', 'tried', 'commit', 'suicide', 'twice', 'incarcerated', 'all-male', 'prison', 'norfolk', ',', 'according', 'court', 'order', '.']\n",
      "['we', 'happy', 'ruling', ',', 'course', '.']\n",
      "['we', 'still', 'reviewing', 'opinion', 'anticipate', 'department', 'corrections', 'follow', 'judge', 'wolf', \"'s\", 'order', 'promptly', 'arrange', 'michelle', 'kosilek', 'receive', 'treatment', ',', \"''\", 'kosilek', \"'s\", 'attorney', 'joseph', 'sulman', 'said', 'tuesday', '.']\n",
      "['the', 'chart', ':', 'treatment', 'guidelines', 'gender', 'identity', 'disorder', 'development', '.']\n",
      "['chief', 'judge', 'mark', 'l.', 'wolf', 'ruled', 'sex', 'reassignment', 'surgery', '``', 'adequate', 'treatment', \"''\", 'kosilek', ',', '``', 'less', 'intrusive', 'means', 'correct', 'prolonged', 'violation', 'kosilek', \"'s\", 'eighth', 'amendment', 'right', 'adequate', 'medical', 'care', '.']\n",
      "------Average Context Calculation ---------\n",
      "sex-reassignment not found\n",
      "------Sentence Scoring Begins ---------\n",
      "sex-reassignment not found\n",
      "Score for sentence 0 is: 8.190738319144037\n",
      "Score for sentence 1 is: 7.36816873522878\n",
      "Score for sentence 2 is: 6.388061005794241\n",
      "Score for sentence 3 is: 8.248721254406584\n",
      "Score for sentence 4 is: 6.6544709707812455\n",
      "Score for sentence 5 is: 7.417926155362568\n",
      "Score for sentence 6 is: 7.02665499567359\n",
      "------ Generating Data-Frame ---------\n",
      "   index     score                                           sentence  \\\n",
      "3      3  8.248721      We are very happy with the ruling, of course.   \n",
      "0      0  8.190738  A federal court judge on Tuesday ordered Massa...   \n",
      "5      5  7.417926  The Chart: Treatment guidelines for Gender Ide...   \n",
      "1      1  7.368169  The state's Department of Correction said Mich...   \n",
      "6      6  7.026655  Chief Judge Mark L. Wolf ruled that sex reassi...   \n",
      "4      4  6.654471  We are still reviewing the opinion and we anti...   \n",
      "2      2  6.388061  She attempted to castrate herself and tried to...   \n",
      "\n",
      "                                      filtered_words  sentence_length  \n",
      "3                  [we, happy, ruling, ,, course, .]               45  \n",
      "0  [a, federal, court, judge, tuesday, ordered, m...              224  \n",
      "5  [the, chart, :, treatment, guidelines, gender,...               76  \n",
      "1  [the, state, 's, department, correction, said,...              197  \n",
      "6  [chief, judge, mark, l., wolf, ruled, sex, rea...              246  \n",
      "4  [we, still, reviewing, opinion, anticipate, de...              229  \n",
      "2  [she, attempted, castrate, tried, commit, suic...              148  \n",
      "------ Finding no of sentences in output ---------\n",
      "total sentences in output: 4\n",
      "=====================================================================\n",
      "=====================================================================\n",
      "Generated output: A federal court judge on Tuesday ordered Massachusetts officials to provide sex-reassignment surgery for a transsexual prison inmate, after determining that it was the only adequate treatment for the inmate's mental illness. The state's Department of Correction said Michelle Kosilek, previously known as Robert, who is serving a life sentence without parole for murdering his wife in 1990, has a gender identity disorder. We are very happy with the ruling, of course. The Chart: Treatment guidelines for Gender Identity Disorder in development.\n"
     ]
    },
    {
     "data": {
      "text/plain": [
       "\"A federal court judge on Tuesday ordered Massachusetts officials to provide sex-reassignment surgery for a transsexual prison inmate, after determining that it was the only adequate treatment for the inmate's mental illness. The state's Department of Correction said Michelle Kosilek, previously known as Robert, who is serving a life sentence without parole for murdering his wife in 1990, has a gender identity disorder. We are very happy with the ruling, of course. The Chart: Treatment guidelines for Gender Identity Disorder in development.\""
      ]
     },
     "execution_count": 25,
     "metadata": {},
     "output_type": "execute_result"
    }
   ],
   "source": [
    "test_input = \"A federal court judge on Tuesday ordered Massachusetts officials to provide sex-reassignment surgery for a transsexual prison inmate, after determining that it was the only adequate treatment for the inmate's mental illness. The state\\'s Department of Correction said Michelle Kosilek, previously known as Robert, who is serving a life sentence without parole for murdering his wife in 1990, has a gender identity disorder. She attempted to castrate herself and tried to commit suicide twice while incarcerated in an all-male prison in Norfolk, according to a court order. We are very happy with the ruling, of course. We are still reviewing the opinion and we anticipate the Department of Corrections will follow Judge Wolf's order and promptly arrange for Michelle Kosilek to receive her treatment,\\\" Kosilek\\'s attorney Joseph Sulman said Tuesday. The Chart: Treatment guidelines for Gender Identity Disorder in development. Chief Judge Mark L. Wolf ruled that sex reassignment surgery is the \\\"only adequate treatment\\\" for Kosilek, and \\\"that there is no less intrusive means to correct the prolonged violation of Kosilek's Eighth Amendment right to adequate medical care.\"\n",
    "obj.query(test_input, 30, None)"
   ]
  },
  {
   "cell_type": "code",
   "execution_count": 11,
   "metadata": {},
   "outputs": [
    {
     "name": "stdout",
     "output_type": "stream",
     "text": [
      "13\n"
     ]
    }
   ],
   "source": [
    "string =\"abcdefghijklm\"\n",
    "print(len(string))"
   ]
  },
  {
   "cell_type": "code",
   "execution_count": null,
   "metadata": {},
   "outputs": [],
   "source": []
  }
 ],
 "metadata": {
  "kernelspec": {
   "display_name": "Python 3",
   "language": "python",
   "name": "python3"
  },
  "language_info": {
   "codemirror_mode": {
    "name": "ipython",
    "version": 3
   },
   "file_extension": ".py",
   "mimetype": "text/x-python",
   "name": "python",
   "nbconvert_exporter": "python",
   "pygments_lexer": "ipython3",
   "version": "3.7.9"
  }
 },
 "nbformat": 4,
 "nbformat_minor": 4
}
