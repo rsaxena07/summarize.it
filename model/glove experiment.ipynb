{
 "cells": [
  {
   "cell_type": "code",
   "execution_count": 65,
   "metadata": {},
   "outputs": [],
   "source": [
    "import numpy as np\n",
    "import pandas as pd\n",
    "from scipy import spatial\n",
    "import matplotlib.pyplot as plt\n",
    "from sklearn.manifold import TSNE"
   ]
  },
  {
   "cell_type": "markdown",
   "metadata": {},
   "source": [
    "Reference: https://medium.com/analytics-vidhya/basics-of-using-pre-trained-glove-vectors-in-python-d38905f356db\n",
    "\n",
    "\n",
    "Reading the 50 dimension embeddings from file and creating a dictionary"
   ]
  },
  {
   "cell_type": "code",
   "execution_count": 5,
   "metadata": {},
   "outputs": [],
   "source": [
    "dimension = 50\n",
    "glove_input_file = \"glove\\glove.6B.\" + str(dimension) + \"d.txt\""
   ]
  },
  {
   "cell_type": "code",
   "execution_count": 6,
   "metadata": {},
   "outputs": [],
   "source": [
    "embeddings_dict = {}\n",
    "with open(glove_input_file, 'r', encoding=\"utf-8\") as f:\n",
    "    for line in f:\n",
    "        values = line.split()\n",
    "        word = values[0]\n",
    "        vector = np.asarray(values[1:], \"float32\")\n",
    "        embeddings_dict[word] = vector"
   ]
  },
  {
   "cell_type": "markdown",
   "metadata": {},
   "source": [
    "After reading the embeddings we can define few functions to do interesting operations."
   ]
  },
  {
   "cell_type": "code",
   "execution_count": 7,
   "metadata": {},
   "outputs": [],
   "source": [
    "def find_closest_embeddings(embedding):\n",
    "    return sorted(embeddings_dict.keys(), key=lambda word: spatial.distance.euclidean(embeddings_dict[word], embedding))"
   ]
  },
  {
   "cell_type": "code",
   "execution_count": 69,
   "metadata": {},
   "outputs": [],
   "source": [
    "test_input = \"This is a sample input. We will try to have many sentences in this particular paragraph. The more sentences we have the better for our testing. The algorithm will try to rank all sentences. The top ranked sentences will be picked up for the summarization. The picked sentences will be arranged in the order in which they appaear in the input paragraph.\""
   ]
  },
  {
   "cell_type": "code",
   "execution_count": 73,
   "metadata": {},
   "outputs": [
    {
     "name": "stdout",
     "output_type": "stream",
     "text": [
      "<class 'list'> <class 'list'>\n",
      "This is a sample input\n",
      "We will try to have many sentences in this particular paragraph\n",
      "The more sentences we have the better for our testing\n",
      "The algorithm will try to rank all sentences\n",
      "The top ranked sentences will be picked up for the summarization\n",
      "The picked sentences will be arranged in the order in which they appaear in the input paragraph\n",
      "\n"
     ]
    }
   ],
   "source": [
    "sentences_raw = test_input.split(\".\")\n",
    "sentences = []\n",
    "print(type(sentences), type(sentences_raw))\n",
    "for i, sentence in enumerate(sentences_raw):\n",
    "    sentences_raw[i] = sentence.strip()\n",
    "    sentences.append(sentence.strip().lower())\n",
    "    print (sentence.strip())"
   ]
  },
  {
   "cell_type": "code",
   "execution_count": 74,
   "metadata": {},
   "outputs": [
    {
     "name": "stdout",
     "output_type": "stream",
     "text": [
      "[ 2.96651608e-01  4.44978697e-02 -1.18722788e-03 -9.47662751e-02\n",
      "  4.21513134e-01  6.90408916e-02 -1.43196983e-01 -5.32599188e-02\n",
      " -3.43356028e-02 -5.73238628e-02  3.54063658e-02  3.71503158e-03\n",
      " -2.55592198e-01 -1.66077892e-02  4.35564798e-01  8.87271821e-02\n",
      "  6.66614688e-02 -2.23741890e-01 -1.84954056e-01 -5.00160492e-01\n",
      "  4.37303704e-02 -1.10463572e-01  3.00721319e-01  4.22934765e-02\n",
      " -1.26539030e-02 -1.50436912e+00 -2.55004292e-01 -1.05511885e-01\n",
      "  4.77467435e-03 -2.55383083e-01  3.31346872e+00  1.03256810e-01\n",
      " -4.04420235e-01 -3.40043820e-01  2.84908123e-01 -3.51489322e-02\n",
      "  2.25082982e-01  1.73655832e-01 -1.23936253e-01 -1.17615754e-01\n",
      " -2.08834695e-01  8.00735630e-02  9.27520020e-02  2.00819599e-01\n",
      " -1.75540773e-01  6.74853095e-02  4.51184723e-02  1.34941179e-01\n",
      " -7.22062021e-02 -1.12992558e-01]\n"
     ]
    }
   ],
   "source": [
    "# overall glove score\n",
    "document_embedding = np.zeros(dimension);\n",
    "found_words = 0\n",
    "for sentence in sentences:\n",
    "    words = sentence.split()\n",
    "    for word in words:\n",
    "        if word in embeddings_dict:\n",
    "            document_embedding += embeddings_dict[word]\n",
    "            found_words += 1\n",
    "\n",
    "document_embedding /= found_words\n",
    "print(document_embedding)"
   ]
  },
  {
   "cell_type": "code",
   "execution_count": 75,
   "metadata": {},
   "outputs": [
    {
     "name": "stdout",
     "output_type": "stream",
     "text": [
      "7\n",
      "appaear\n",
      "\n"
     ]
    }
   ],
   "source": [
    "sentence_glove_score = np.zeros(len(sentences))\n",
    "\n",
    "print(len(sentences))\n",
    "for idx, sentence in enumerate(sentences):\n",
    "    words = sentence.split(\" \")\n",
    "    n_words = 0\n",
    "    score = 0\n",
    "    for word in words:\n",
    "        if word in embeddings_dict:\n",
    "            score += document_embedding.dot(embeddings_dict[word]) \n",
    "            n_words+=1;\n",
    "        else:\n",
    "            print(word)\n",
    "    \n",
    "    if n_words==0:\n",
    "        sentence_glove_score[idx] = 0\n",
    "        continue\n",
    "    score /= n_words\n",
    "    sentence_glove_score[idx] = score\n",
    "    "
   ]
  },
  {
   "cell_type": "code",
   "execution_count": 76,
   "metadata": {},
   "outputs": [
    {
     "name": "stdout",
     "output_type": "stream",
     "text": [
      "[14.55531131 15.8435043  16.80767034 14.25190613 13.51178734 15.04553253\n",
      "  0.        ]\n"
     ]
    }
   ],
   "source": [
    "print(sentence_glove_score)"
   ]
  },
  {
   "cell_type": "code",
   "execution_count": 64,
   "metadata": {},
   "outputs": [],
   "source": [
    "sentences_to_pick = 3"
   ]
  },
  {
   "cell_type": "code",
   "execution_count": 99,
   "metadata": {},
   "outputs": [],
   "source": [
    "sentence_dict = {'index': list(range(len(sentences))),\n",
    "                'score': sentence_glove_score,\n",
    "                'raw_text': sentences_raw,\n",
    "                'processed_text': sentences_raw}\n",
    "\n",
    "sentences_df = pd.DataFrame(data=sentence_dict)"
   ]
  },
  {
   "cell_type": "code",
   "execution_count": 101,
   "metadata": {},
   "outputs": [
    {
     "data": {
      "text/html": [
       "<div>\n",
       "<style scoped>\n",
       "    .dataframe tbody tr th:only-of-type {\n",
       "        vertical-align: middle;\n",
       "    }\n",
       "\n",
       "    .dataframe tbody tr th {\n",
       "        vertical-align: top;\n",
       "    }\n",
       "\n",
       "    .dataframe thead th {\n",
       "        text-align: right;\n",
       "    }\n",
       "</style>\n",
       "<table border=\"1\" class=\"dataframe\">\n",
       "  <thead>\n",
       "    <tr style=\"text-align: right;\">\n",
       "      <th></th>\n",
       "      <th>index</th>\n",
       "      <th>score</th>\n",
       "      <th>raw_text</th>\n",
       "      <th>processed_text</th>\n",
       "    </tr>\n",
       "  </thead>\n",
       "  <tbody>\n",
       "    <tr>\n",
       "      <th>0</th>\n",
       "      <td>0</td>\n",
       "      <td>14.555311</td>\n",
       "      <td>This is a sample input</td>\n",
       "      <td>This is a sample input</td>\n",
       "    </tr>\n",
       "    <tr>\n",
       "      <th>1</th>\n",
       "      <td>1</td>\n",
       "      <td>15.843504</td>\n",
       "      <td>We will try to have many sentences in this par...</td>\n",
       "      <td>We will try to have many sentences in this par...</td>\n",
       "    </tr>\n",
       "    <tr>\n",
       "      <th>2</th>\n",
       "      <td>2</td>\n",
       "      <td>16.807670</td>\n",
       "      <td>The more sentences we have the better for our ...</td>\n",
       "      <td>The more sentences we have the better for our ...</td>\n",
       "    </tr>\n",
       "    <tr>\n",
       "      <th>3</th>\n",
       "      <td>3</td>\n",
       "      <td>14.251906</td>\n",
       "      <td>The algorithm will try to rank all sentences</td>\n",
       "      <td>The algorithm will try to rank all sentences</td>\n",
       "    </tr>\n",
       "    <tr>\n",
       "      <th>4</th>\n",
       "      <td>4</td>\n",
       "      <td>13.511787</td>\n",
       "      <td>The top ranked sentences will be picked up for...</td>\n",
       "      <td>The top ranked sentences will be picked up for...</td>\n",
       "    </tr>\n",
       "    <tr>\n",
       "      <th>5</th>\n",
       "      <td>5</td>\n",
       "      <td>15.045533</td>\n",
       "      <td>The picked sentences will be arranged in the o...</td>\n",
       "      <td>The picked sentences will be arranged in the o...</td>\n",
       "    </tr>\n",
       "    <tr>\n",
       "      <th>6</th>\n",
       "      <td>6</td>\n",
       "      <td>0.000000</td>\n",
       "      <td></td>\n",
       "      <td></td>\n",
       "    </tr>\n",
       "  </tbody>\n",
       "</table>\n",
       "</div>"
      ],
      "text/plain": [
       "   index      score                                           raw_text  \\\n",
       "0      0  14.555311                             This is a sample input   \n",
       "1      1  15.843504  We will try to have many sentences in this par...   \n",
       "2      2  16.807670  The more sentences we have the better for our ...   \n",
       "3      3  14.251906       The algorithm will try to rank all sentences   \n",
       "4      4  13.511787  The top ranked sentences will be picked up for...   \n",
       "5      5  15.045533  The picked sentences will be arranged in the o...   \n",
       "6      6   0.000000                                                      \n",
       "\n",
       "                                      processed_text  \n",
       "0                             This is a sample input  \n",
       "1  We will try to have many sentences in this par...  \n",
       "2  The more sentences we have the better for our ...  \n",
       "3       The algorithm will try to rank all sentences  \n",
       "4  The top ranked sentences will be picked up for...  \n",
       "5  The picked sentences will be arranged in the o...  \n",
       "6                                                     "
      ]
     },
     "execution_count": 101,
     "metadata": {},
     "output_type": "execute_result"
    }
   ],
   "source": [
    "sentences_df"
   ]
  },
  {
   "cell_type": "code",
   "execution_count": 113,
   "metadata": {},
   "outputs": [
    {
     "name": "stdout",
     "output_type": "stream",
     "text": [
      "We will try to have many sentences in this particular paragraph. The more sentences we have the better for our testing. The picked sentences will be arranged in the order in which they appaear in the input paragraph.\n"
     ]
    }
   ],
   "source": [
    "picked_sentences_df = sentences_df.nlargest(sentences_to_pick, 'score').sort_values(by=['index'])\n",
    "\n",
    "#print(picked_sentences_df)\n",
    "output_text=\"\"\n",
    "for i, picked_sentence in enumerate(picked_sentences_df['raw_text']):\n",
    "    output_text += picked_sentence + \". \"\n",
    "\n",
    "print(output_text.strip())\n"
   ]
  },
  {
   "cell_type": "code",
   "execution_count": null,
   "metadata": {},
   "outputs": [],
   "source": [
    "\n",
    "\n",
    "\n",
    "\n"
   ]
  }
 ],
 "metadata": {
  "kernelspec": {
   "display_name": "Python 3",
   "language": "python",
   "name": "python3"
  },
  "language_info": {
   "codemirror_mode": {
    "name": "ipython",
    "version": 3
   },
   "file_extension": ".py",
   "mimetype": "text/x-python",
   "name": "python",
   "nbconvert_exporter": "python",
   "pygments_lexer": "ipython3",
   "version": "3.7.9"
  }
 },
 "nbformat": 4,
 "nbformat_minor": 4
}
