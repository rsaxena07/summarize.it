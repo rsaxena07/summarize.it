{
 "cells": [
  {
   "cell_type": "code",
   "execution_count": 2,
   "metadata": {},
   "outputs": [],
   "source": [
    "import numpy as np\n",
    "import pandas as pd\n",
    "from nltk.tokenize import sent_tokenize\n",
    "from nltk.tokenize import word_tokenize\n",
    "import nltk"
   ]
  },
  {
   "cell_type": "code",
   "execution_count": 3,
   "metadata": {},
   "outputs": [
    {
     "name": "stderr",
     "output_type": "stream",
     "text": [
      "[nltk_data] Downloading package punkt to\n",
      "[nltk_data]     C:\\Users\\risha\\AppData\\Roaming\\nltk_data...\n",
      "[nltk_data]   Package punkt is already up-to-date!\n"
     ]
    },
    {
     "data": {
      "text/plain": [
       "True"
      ]
     },
     "execution_count": 3,
     "metadata": {},
     "output_type": "execute_result"
    }
   ],
   "source": [
    "nltk.download('punkt')"
   ]
  },
  {
   "cell_type": "code",
   "execution_count": 5,
   "metadata": {},
   "outputs": [
    {
     "name": "stderr",
     "output_type": "stream",
     "text": [
      "[nltk_data] Downloading package stopwords to\n",
      "[nltk_data]     C:\\Users\\risha\\AppData\\Roaming\\nltk_data...\n",
      "[nltk_data]   Unzipping corpora\\stopwords.zip.\n"
     ]
    },
    {
     "data": {
      "text/plain": [
       "True"
      ]
     },
     "execution_count": 5,
     "metadata": {},
     "output_type": "execute_result"
    }
   ],
   "source": [
    "nltk.download('stopwords')"
   ]
  },
  {
   "cell_type": "code",
   "execution_count": 2,
   "metadata": {},
   "outputs": [],
   "source": [
    "dimension = 300\n",
    "glove_input_file = \"glove\\glove.6B.\" + str(dimension) + \"d.txt\""
   ]
  },
  {
   "cell_type": "code",
   "execution_count": 3,
   "metadata": {},
   "outputs": [],
   "source": [
    "embeddings_dict = {}\n",
    "with open(glove_input_file, 'r', encoding=\"utf-8\") as f:\n",
    "    for line in f:\n",
    "        values = line.split()\n",
    "        word = values[0]\n",
    "        vector = np.asarray(values[1:], \"float32\")\n",
    "        embeddings_dict[word] = vector"
   ]
  },
  {
   "cell_type": "code",
   "execution_count": 4,
   "metadata": {},
   "outputs": [],
   "source": [
    "vocab_words = []\n",
    "with open(glove_input_file, 'r', encoding=\"utf-8\") as f:\n",
    "    for line in f:\n",
    "        values = line.split()\n",
    "        word = values[0]\n",
    "        vocab_words.append(word)"
   ]
  },
  {
   "cell_type": "code",
   "execution_count": 8,
   "metadata": {},
   "outputs": [
    {
     "data": {
      "text/plain": [
       "399995        chanty\n",
       "399996        kronik\n",
       "399997       rolonda\n",
       "399998       zsombor\n",
       "399999    sandberger\n",
       "dtype: object"
      ]
     },
     "execution_count": 8,
     "metadata": {},
     "output_type": "execute_result"
    }
   ],
   "source": [
    "vocab_words_series = pd.Series(vocab_words)\n",
    "vocab_words_series.tail()"
   ]
  },
  {
   "cell_type": "code",
   "execution_count": 33,
   "metadata": {},
   "outputs": [
    {
     "name": "stdout",
     "output_type": "stream",
     "text": [
      "True\n"
     ]
    }
   ],
   "source": [
    "print(\"'s\" in vocab_words)"
   ]
  },
  {
   "cell_type": "code",
   "execution_count": 18,
   "metadata": {},
   "outputs": [
    {
     "name": "stdout",
     "output_type": "stream",
     "text": [
      "A federal court judge on Tuesday ordered Massachusetts officials to provide sex-reassignment surgery for a transsexual prison inmate, after determining that it was the only adequate treatment for the inmate's mental illness. The state's Department of Correction said Michelle Kosilek, previously known as Robert, who is serving a life sentence without parole for murdering his wife in 1990, has a gender identity disorder. She attempted to castrate herself and tried to commit suicide twice while incarcerated in an all-male prison in Norfolk, according to a court order. We are very happy with the ruling, of course. We are still reviewing the opinion and we anticipate the Department of Corrections will follow Judge Wolf's order and promptly arrange for Michelle Kosilek to receive her treatment,\" Kosilek's attorney Joseph Sulman said Tuesday. The Chart: Treatment guidelines for Gender Identity Disorder in development. Chief Judge Mark L. Wolf ruled that sex reassignment surgery is the \"only adequate treatment\" for Kosilek, and \"that there is no less intrusive means to correct the prolonged violation of Kosilek's Eighth Amendment right to adequate medical care.\n"
     ]
    }
   ],
   "source": [
    "test_input = \"A federal court judge on Tuesday ordered Massachusetts officials to provide sex-reassignment surgery for a transsexual prison inmate, after determining that it was the only adequate treatment for the inmate's mental illness. The state\\'s Department of Correction said Michelle Kosilek, previously known as Robert, who is serving a life sentence without parole for murdering his wife in 1990, has a gender identity disorder. She attempted to castrate herself and tried to commit suicide twice while incarcerated in an all-male prison in Norfolk, according to a court order. We are very happy with the ruling, of course. We are still reviewing the opinion and we anticipate the Department of Corrections will follow Judge Wolf's order and promptly arrange for Michelle Kosilek to receive her treatment,\\\" Kosilek\\'s attorney Joseph Sulman said Tuesday. The Chart: Treatment guidelines for Gender Identity Disorder in development. Chief Judge Mark L. Wolf ruled that sex reassignment surgery is the \\\"only adequate treatment\\\" for Kosilek, and \\\"that there is no less intrusive means to correct the prolonged violation of Kosilek's Eighth Amendment right to adequate medical care.\"\n",
    "print (test_input)"
   ]
  },
  {
   "cell_type": "code",
   "execution_count": 27,
   "metadata": {},
   "outputs": [],
   "source": [
    "sentences = sent_tokenize(test_input)"
   ]
  },
  {
   "cell_type": "code",
   "execution_count": 28,
   "metadata": {},
   "outputs": [
    {
     "data": {
      "text/plain": [
       "[\"A federal court judge on Tuesday ordered Massachusetts officials to provide sex-reassignment surgery for a transsexual prison inmate, after determining that it was the only adequate treatment for the inmate's mental illness.\",\n",
       " \"The state's Department of Correction said Michelle Kosilek, previously known as Robert, who is serving a life sentence without parole for murdering his wife in 1990, has a gender identity disorder.\",\n",
       " 'She attempted to castrate herself and tried to commit suicide twice while incarcerated in an all-male prison in Norfolk, according to a court order.',\n",
       " 'We are very happy with the ruling, of course.',\n",
       " 'We are still reviewing the opinion and we anticipate the Department of Corrections will follow Judge Wolf\\'s order and promptly arrange for Michelle Kosilek to receive her treatment,\" Kosilek\\'s attorney Joseph Sulman said Tuesday.',\n",
       " 'The Chart: Treatment guidelines for Gender Identity Disorder in development.',\n",
       " 'Chief Judge Mark L. Wolf ruled that sex reassignment surgery is the \"only adequate treatment\" for Kosilek, and \"that there is no less intrusive means to correct the prolonged violation of Kosilek\\'s Eighth Amendment right to adequate medical care.']"
      ]
     },
     "execution_count": 28,
     "metadata": {},
     "output_type": "execute_result"
    }
   ],
   "source": [
    "sentences"
   ]
  },
  {
   "cell_type": "code",
   "execution_count": 39,
   "metadata": {},
   "outputs": [
    {
     "name": "stdout",
     "output_type": "stream",
     "text": [
      "sex-reassignment\n"
     ]
    }
   ],
   "source": [
    "for sentence in sentences:\n",
    "    words = word_tokenize(sentence)\n",
    "    #print (words)\n",
    "    \n",
    "    for word in words:\n",
    "        if word.lower() not in vocab_words:\n",
    "            print (word)\n",
    "    "
   ]
  },
  {
   "cell_type": "code",
   "execution_count": null,
   "metadata": {},
   "outputs": [],
   "source": []
  },
  {
   "cell_type": "code",
   "execution_count": null,
   "metadata": {},
   "outputs": [],
   "source": []
  }
 ],
 "metadata": {
  "kernelspec": {
   "display_name": "Python 3",
   "language": "python",
   "name": "python3"
  },
  "language_info": {
   "codemirror_mode": {
    "name": "ipython",
    "version": 3
   },
   "file_extension": ".py",
   "mimetype": "text/x-python",
   "name": "python",
   "nbconvert_exporter": "python",
   "pygments_lexer": "ipython3",
   "version": "3.7.9"
  }
 },
 "nbformat": 4,
 "nbformat_minor": 4
}
